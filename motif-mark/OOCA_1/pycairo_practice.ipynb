{
 "cells": [
  {
   "cell_type": "code",
   "execution_count": 29,
   "id": "cf6ecf0f",
   "metadata": {},
   "outputs": [],
   "source": [
    "import cairo\n",
    "import math\n",
    "from IPython.display import SVG, display, Image\n",
    "import re"
   ]
  },
  {
   "cell_type": "code",
   "execution_count": 30,
   "id": "1e85e7e0",
   "metadata": {},
   "outputs": [],
   "source": [
    "def show_img(file):\n",
    "    display(Image(filename=file))\n",
    "def show_svg(file):\n",
    "    display(SVG(filename=file))"
   ]
  },
  {
   "cell_type": "code",
   "execution_count": 40,
   "id": "562711c4",
   "metadata": {},
   "outputs": [],
   "source": [
    "surface = cairo.SVGSurface(\"plot.svg\",100,100)"
   ]
  },
  {
   "cell_type": "code",
   "execution_count": 37,
   "id": "dd4cb28b",
   "metadata": {},
   "outputs": [
    {
     "data": {
      "image/svg+xml": [
       "<svg xmlns=\"http://www.w3.org/2000/svg\" xmlns:xlink=\"http://www.w3.org/1999/xlink\" width=\"100pt\" height=\"100pt\" viewBox=\"0 0 100 100\" version=\"1.1\">\n",
       "<g id=\"surface41\">\n",
       "<path style=\"fill:none;stroke-width:1;stroke-linecap:butt;stroke-linejoin:miter;stroke:rgb(0%,0%,0%);stroke-opacity:1;stroke-miterlimit:10;\" d=\"M 25 25 L 75 25 L 75 100 L 25 100 L 25 25 \"/>\n",
       "</g>\n",
       "</svg>"
      ],
      "text/plain": [
       "<IPython.core.display.SVG object>"
      ]
     },
     "metadata": {},
     "output_type": "display_data"
    }
   ],
   "source": [
    "context = cairo.Context(surface)\n",
    "context.set_line_width(1)\n",
    "context.move_to(25,25)\n",
    "context.line_to(75,25)\n",
    "context.line_to(75,100)\n",
    "context.line_to(25,100)\n",
    "context.line_to(25,25)\n",
    "context.stroke()\n",
    "surface.finish()\n",
    "\n",
    "show_svg(\"plot.svg\")"
   ]
  },
  {
   "cell_type": "code",
   "execution_count": 43,
   "id": "db20c7d5",
   "metadata": {},
   "outputs": [
    {
     "data": {
      "image/svg+xml": [
       "<svg xmlns=\"http://www.w3.org/2000/svg\" xmlns:xlink=\"http://www.w3.org/1999/xlink\" width=\"1000pt\" height=\"500pt\" viewBox=\"0 0 1000 500\" version=\"1.1\">\n",
       "<g id=\"surface49\">\n",
       "<path style=\"fill:none;stroke-width:1;stroke-linecap:butt;stroke-linejoin:miter;stroke:rgb(0%,0%,0%);stroke-opacity:1;stroke-miterlimit:10;\" d=\"M 50 25 L 450 25 \"/>\n",
       "<path style=\" stroke:none;fill-rule:nonzero;fill:rgb(0%,0%,0%);fill-opacity:1;\" d=\"M 100 100 L 250 100 L 250 350 L 100 350 Z M 100 100 \"/>\n",
       "</g>\n",
       "</svg>"
      ],
      "text/plain": [
       "<IPython.core.display.SVG object>"
      ]
     },
     "metadata": {},
     "output_type": "display_data"
    }
   ],
   "source": [
    "width, height = 1000, 500\n",
    "\n",
    "#create the coordinates to display your graph\n",
    "surface = cairo.SVGSurface(\"ex.svg\", width, height)\n",
    "context = cairo.Context(surface)\n",
    "context.set_line_width(1)\n",
    "context.move_to(50,25)\n",
    "context.line_to(450,25)\n",
    "context.stroke()\n",
    "\n",
    "# draw a rectangle\n",
    "context.rectangle(100,100,150,250)\n",
    "context.fill()\n",
    "show_svg(\"ex.svg\")"
   ]
  },
  {
   "cell_type": "code",
   "execution_count": null,
   "id": "a7d878f6",
   "metadata": {},
   "outputs": [],
   "source": []
  },
  {
   "cell_type": "code",
   "execution_count": null,
   "id": "f2a4dcf2",
   "metadata": {},
   "outputs": [],
   "source": []
  }
 ],
 "metadata": {
  "kernelspec": {
   "display_name": "Python 3 (ipykernel)",
   "language": "python",
   "name": "python3"
  },
  "language_info": {
   "codemirror_mode": {
    "name": "ipython",
    "version": 3
   },
   "file_extension": ".py",
   "mimetype": "text/x-python",
   "name": "python",
   "nbconvert_exporter": "python",
   "pygments_lexer": "ipython3",
   "version": "3.10.2"
  }
 },
 "nbformat": 4,
 "nbformat_minor": 5
}
